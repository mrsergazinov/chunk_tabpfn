{
 "cells": [
  {
   "cell_type": "code",
   "execution_count": 1,
   "id": "ff3e9fe2",
   "metadata": {},
   "outputs": [],
   "source": [
    "import os\n",
    "\n",
    "# Set CUDA_VISIBLE_DEVICES to use only the first GPU (index 0)\n",
    "os.environ[\"CUDA_VISIBLE_DEVICES\"] = \"3\"\n",
    "os.environ[\"OMP_NUM_THREADS\"] = \"16\"\n",
    "os.environ[\"MKL_NUM_THREADS\"] = \"16\""
   ]
  },
  {
   "cell_type": "code",
   "execution_count": 1,
   "id": "8d521eb4",
   "metadata": {},
   "outputs": [],
   "source": [
    "from sklearn.datasets import fetch_openml\n",
    "from sklearn.metrics import accuracy_score, roc_auc_score\n",
    "from sklearn.model_selection import train_test_split\n",
    "import pandas as pd\n",
    "\n",
    "from sklearn.datasets import load_breast_cancer\n",
    "from sklearn.metrics import accuracy_score, roc_auc_score\n",
    "from sklearn.model_selection import train_test_split\n",
    "\n",
    "\n",
    "# need to make sure that we're reading from the current folder -> replacing pre-installed tabpfn\n",
    "import sys\n",
    "sys.path.insert(0, \"/home/sergazinov/chunk-tabpfn/src\")\n",
    "from tabpfn.classifier import TabPFNClassifier\n",
    "\n",
    "from tabpfn.extensions.replace_chunk_attn_computation import enable_chunked_attention"
   ]
  },
  {
   "cell_type": "code",
   "execution_count": 2,
   "id": "67357e33",
   "metadata": {},
   "outputs": [
    {
     "name": "stderr",
     "output_type": "stream",
     "text": [
      "[TabPFN] ▶ Enabled chunked self‑attention (chunk_size=512, batch_size=1024)\n"
     ]
    }
   ],
   "source": [
    "# default params for exp-s, min recommended chunk_size = 256 -> otherwise, too slow\n",
    "enable_chunked_attention(chunk_size=512, batch_size=1024)"
   ]
  },
  {
   "cell_type": "code",
   "execution_count": 3,
   "id": "c765ef66",
   "metadata": {},
   "outputs": [
    {
     "name": "stdout",
     "output_type": "stream",
     "text": [
      "(581012, 54) (581012,)\n"
     ]
    }
   ],
   "source": [
    "cov = fetch_openml(data_id=293, as_frame='auto',)\n",
    "X, y = cov.data, cov.target\n",
    "\n",
    "y = y.astype('int')\n",
    "y[y==-1] = 0\n",
    "\n",
    "X = pd.DataFrame(X.toarray())\n",
    "print(X.shape, y.shape)"
   ]
  },
  {
   "cell_type": "code",
   "execution_count": 4,
   "id": "2c73000a",
   "metadata": {},
   "outputs": [],
   "source": [
    "# Example usage w/100K data, 50 features\n",
    "X_train = X[:100_000].copy()\n",
    "y_train = y[:100_000].copy()\n",
    "\n",
    "X_test = X[200_000:210_000].copy()\n",
    "y_test = y[200_000:210_000].copy()"
   ]
  },
  {
   "cell_type": "code",
   "execution_count": 5,
   "id": "02a4a4f4",
   "metadata": {},
   "outputs": [
    {
     "name": "stderr",
     "output_type": "stream",
     "text": [
      "/home/sergazinov/chunk-tabpfn/src/tabpfn/classifier.py:422: UserWarning: Number of samples 100000 is greater than the maximum Number of samples 10000 supported by the model. You may see degraded performance.\n",
      "  X, y, feature_names_in, n_features_in = validate_Xy_fit(\n",
      "/home/sergazinov/.local/share/uv/python/cpython-3.11.11-linux-x86_64-gnu/lib/python3.11/contextlib.py:105: FutureWarning: `torch.backends.cuda.sdp_kernel()` is deprecated. In the future, this context manager will be removed. Please see `torch.nn.attention.sdpa_kernel()` for the new context manager, with updated signature.\n",
      "  self.gen = func(*args, **kwds)\n",
      "/home/sergazinov/.local/share/uv/python/cpython-3.11.11-linux-x86_64-gnu/lib/python3.11/contextlib.py:105: FutureWarning: `torch.backends.cuda.sdp_kernel()` is deprecated. In the future, this context manager will be removed. Please see `torch.nn.attention.sdpa_kernel()` for the new context manager, with updated signature.\n",
      "  self.gen = func(*args, **kwds)\n"
     ]
    },
    {
     "name": "stdout",
     "output_type": "stream",
     "text": [
      "ROC AUC: 0.8978702392317726\n"
     ]
    }
   ],
   "source": [
    "# 100K , 50 features, 2min on A100\n",
    "clf = TabPFNClassifier(device='cuda', ignore_pretraining_limits=True)\n",
    "clf.fit(X_train, y_train)\n",
    "prediction_probabilities = clf.predict_proba(X_test)\n",
    "print(\"ROC AUC:\", roc_auc_score(y_test, prediction_probabilities[:, 1]))"
   ]
  },
  {
   "cell_type": "code",
   "execution_count": null,
   "id": "4b5da118",
   "metadata": {},
   "outputs": [],
   "source": []
  }
 ],
 "metadata": {
  "kernelspec": {
   "display_name": ".venv",
   "language": "python",
   "name": "python3"
  },
  "language_info": {
   "codemirror_mode": {
    "name": "ipython",
    "version": 3
   },
   "file_extension": ".py",
   "mimetype": "text/x-python",
   "name": "python",
   "nbconvert_exporter": "python",
   "pygments_lexer": "ipython3",
   "version": "3.11.11"
  }
 },
 "nbformat": 4,
 "nbformat_minor": 5
}
